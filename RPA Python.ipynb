{
 "cells": [
  {
   "cell_type": "markdown",
   "metadata": {},
   "source": [
    "# RPA com Python\n",
    "\n",
    "- O que é RPA?\n",
    "\n",
    "  - Basicamente é a automação de processos por robo  'Robotic Process Autommation',  é uma tecnologia que transforma processos lentos e manuais em atividades extremamente rápidas e automáticas. \n",
    "  - O RPA é usado em uma variedade de aplicações, incluindo entrada de dados, contabilidade, finanças e muito mais.\n",
    "\n",
    "- Estarei usando pandas, pyperclip , pyautogui. Cada um desses três pacotes pode ser usado como ponto de partida para construir seu próprio aplicativo RPA, bem como construir aplicativos de teste de IU.\n",
    " \n",
    "- Por que isso é diferente de Selenium/Web-Scraping? \n",
    "   - Com o web-scraping você consegue automatizar coisas na internet, exclusivamente em sites. Com o uso do RPA você consegue automatizar qualquer coisa que você consegue fazer com o mouse e com o teclado! \n",
    "- Pontos Positivos:\n",
    "   - o RPA serve para automatizar qualquer processo repetitivo, sendo na web ou no proprio computador.\n",
    "   \n",
    "- Pontos Negativos:\n",
    "   - você não pode usar o computador quando o programa RPA estiver rodando, pois ele usa o mouse e o teclado para automatizar e por vir a atrapalhar o processo.\n",
    "   - ele também não é 100% adaptavel de um computador para o outro, basicamente ele usa a tela como referencia (quantidade de pixels), portanto se voce usa o codigo em um computador e tenta usar em outro que contenha outra resolução de tela não vai dar certo.\n",
    "    \n",
    "- Biblioteca usada:\n",
    "    - pip install pyautogui\n",
    "    - https://pyautogui.readthedocs.io/en/latest/\n",
    "        - Para os comandos de imagem pode ser que seja necessário instalar pip install pillow\n",
    "        - Para resolver problemas de caracteres especiais deve-se usar um macete com a pyperclip\n",
    "        \n",
    "- Link com um resumo dos principais comandos: https://pyautogui.readthedocs.io/en/latest/quickstart.html"
   ]
  },
  {
   "cell_type": "markdown",
   "metadata": {},
   "source": [
    "## Desafio\n",
    "\n",
    "- automatizar a extração de informações de um sistema e envio de um relatório por e-mail\n",
    "- \"sistema\" é feito com o Gmail, mas o mesmo processo pode ser feito com qualquer programa do computador e qualquer sistema\n",
    "    - Passo 1: Entrar no sistema (Gmail)\n",
    "    - Passo 2: Entrar em uma aba específica do sistema onde tem o relatório (Aba Contatos)\n",
    "    - Passo 3: Exportar o Relatório (Exportar Contatos)\n",
    "    - Passo 4: Pegar o relatório exportado, tratar e pegar as informações que queremos\n",
    "    - Passo 5: Preencher/Atualizar informações do sistema (Nesse caso, criar um e-mail e enviar)"
   ]
  },
  {
   "cell_type": "code",
   "execution_count": 33,
   "metadata": {},
   "outputs": [],
   "source": [
    "import pyautogui\n",
    "import time\n",
    "\n",
    "# pyautogui.write() -> escreve\n",
    "# pyautogui.click -> clica\n",
    "# pyautogui.locateOnScreen -> identifica uma imagem na sua tela\n",
    "# pyautogui.hotkey -> usa atalhos do teclado (combinação de teclas)\n",
    "# pyautogui.press -> aperta um botão do teclado\n",
    "# print(pyautogui.KEYBOARD_KEYS)\n",
    "\n",
    "pyautogui.alert('O código vai começar. Não mexa em NADA enquanto o código tiver rodando. Quando finalizar, eu te aviso')\n",
    "\n",
    "pyautogui.PAUSE = 1\n",
    "# apertar o windows do teclado\n",
    "pyautogui.press('win')\n",
    "# digitar chrome\n",
    "pyautogui.write(\"chrome\")\n",
    "# apertar enter\n",
    "pyautogui.press('enter')\n",
    "\n",
    "# entrar no Gmail\n",
    "pyautogui.write('gmail')\n",
    "pyautogui.press('enter')\n",
    "\n",
    "#esperar carregar o google\n",
    "while not pyautogui.locateOnScreen('busca_google.png'):\n",
    "    time.sleep(1)\n",
    "\n",
    "# localizar a imagem -> vai te dar 4 informações: posicao x, posicao y, largura e altura\n",
    "x, y, largura, altura = pyautogui.locateOnScreen('busca_google.png')\n",
    "# clicar no meio da imagem\n",
    "pyautogui.click(x + largura/2, y + altura/2)\n",
    "\n",
    "\n",
    "#esperar o gmail\n",
    "while not pyautogui.locateOnScreen('logo_gmail.png'):\n",
    "    time.sleep(1)\n",
    "\n",
    "# entrar em contatos\n",
    "x, y, largura, altura = pyautogui.locateOnScreen('pontinhos_menu.png')\n",
    "pyautogui.click(x + largura/2, y + altura/2)\n",
    "\n",
    "time.sleep(1)\n",
    "x, y, largura, altura = pyautogui.locateOnScreen('contatos.png')\n",
    "pyautogui.click(x + largura/2, y + altura/2)\n",
    "\n",
    "#esperar o contatos\n",
    "while not pyautogui.locateOnScreen('tela_contatos.png'):\n",
    "    time.sleep(1)\n",
    "\n",
    "# exportar os contatos\n",
    "x, y, largura, altura = pyautogui.locateOnScreen('exportar.png')\n",
    "pyautogui.click(x + largura/2, y + altura/2)\n",
    "x, y, largura, altura = pyautogui.locateOnScreen('confirmar_exportar.png')\n",
    "pyautogui.click(x + largura/2, y + altura/2)"
   ]
  },
  {
   "cell_type": "markdown",
   "metadata": {},
   "source": [
    "### Agora vamos escrever o e-mail"
   ]
  },
  {
   "cell_type": "code",
   "execution_count": 34,
   "metadata": {},
   "outputs": [
    {
     "data": {
      "text/html": [
       "<div>\n",
       "<style scoped>\n",
       "    .dataframe tbody tr th:only-of-type {\n",
       "        vertical-align: middle;\n",
       "    }\n",
       "\n",
       "    .dataframe tbody tr th {\n",
       "        vertical-align: top;\n",
       "    }\n",
       "\n",
       "    .dataframe thead th {\n",
       "        text-align: right;\n",
       "    }\n",
       "</style>\n",
       "<table border=\"1\" class=\"dataframe\">\n",
       "  <thead>\n",
       "    <tr style=\"text-align: right;\">\n",
       "      <th></th>\n",
       "      <th>Name</th>\n",
       "      <th>Given Name</th>\n",
       "      <th>Family Name</th>\n",
       "      <th>Group Membership</th>\n",
       "      <th>E-mail 1 - Type</th>\n",
       "      <th>E-mail 1 - Value</th>\n",
       "      <th>Phone 1 - Value</th>\n",
       "      <th>Organization 1 - Name</th>\n",
       "      <th>Organization 1 - Title</th>\n",
       "    </tr>\n",
       "  </thead>\n",
       "  <tbody>\n",
       "    <tr>\n",
       "      <th>0</th>\n",
       "      <td>Teste Lira</td>\n",
       "      <td>Teste</td>\n",
       "      <td>Lira</td>\n",
       "      <td>* myContacts</td>\n",
       "      <td>* Home</td>\n",
       "      <td>pythonimpressionador+lira@gmail.com</td>\n",
       "      <td>21 98561-0481</td>\n",
       "      <td>Hashtag</td>\n",
       "      <td>Programador</td>\n",
       "    </tr>\n",
       "  </tbody>\n",
       "</table>\n",
       "</div>"
      ],
      "text/plain": [
       "         Name Given Name Family Name Group Membership E-mail 1 - Type  \\\n",
       "0  Teste Lira      Teste        Lira     * myContacts          * Home   \n",
       "\n",
       "                      E-mail 1 - Value Phone 1 - Value Organization 1 - Name  \\\n",
       "0  pythonimpressionador+lira@gmail.com   21 98561-0481               Hashtag   \n",
       "\n",
       "  Organization 1 - Title  \n",
       "0            Programador  "
      ]
     },
     "metadata": {},
     "output_type": "display_data"
    },
    {
     "data": {
      "text/plain": [
       "'OK'"
      ]
     },
     "execution_count": 34,
     "metadata": {},
     "output_type": "execute_result"
    }
   ],
   "source": [
    "import pandas as pd\n",
    "import pyperclip\n",
    "\n",
    "time.sleep(2)\n",
    "df = pd.read_csv(r'contacts.csv')\n",
    "df = df.dropna(axis=1)\n",
    "display(df)\n",
    "\n",
    "pyautogui.hotkey('ctrl', 'pgup')\n",
    "\n",
    "for email in df['E-mail 1 - Value']:\n",
    "    #clicar no botão escrever\n",
    "    time.sleep(1)\n",
    "    x, y, largura, altura = pyautogui.locateOnScreen('escrever.png')\n",
    "    pyautogui.click(x + largura/2, y + altura/2)\n",
    "    time.sleep(1)\n",
    "    # escrever o email\n",
    "    pyautogui.write(email)\n",
    "    # enter\n",
    "    pyautogui.press('enter')\n",
    "    #tab para o assunto do email\n",
    "    pyautogui.press('tab')\n",
    "    pyautogui.write('Caloteiro kk')\n",
    "    #tab para o corpo do email\n",
    "    pyautogui.press('tab')\n",
    "    texto = \"\"\"\n",
    "    Coe mané,\n",
    "    \n",
    "    Para de dar calote e paga as parcelas aí, namoral.\n",
    "    \n",
    "    Abs e tmj\"\"\"\n",
    "    pyperclip.copy(texto)\n",
    "    pyautogui.hotkey('ctrl', 'v')\n",
    "    pyautogui.hotkey('ctrl', 'enter')\n",
    "    \n",
    "    \n",
    "pyautogui.alert('O código terminou, pode pegar o seu computador de volta')"
   ]
  },
  {
   "cell_type": "markdown",
   "metadata": {},
   "source": [
    "### E se eu já tiver com a aba aberta, como que eu coloco ela na frente?"
   ]
  },
  {
   "cell_type": "code",
   "execution_count": 42,
   "metadata": {},
   "outputs": [
    {
     "name": "stdout",
     "output_type": "stream",
     "text": [
      "Achei o paint\n"
     ]
    }
   ],
   "source": [
    "while not pyautogui.locateOnScreen('paint.png'):\n",
    "    pyautogui.hotkey('alt', 'shift', 'tab') \n",
    "print(\"Achei o paint\")"
   ]
  },
  {
   "cell_type": "markdown",
   "metadata": {},
   "source": [
    "### Como descobrir a posição do mouse do local que eu quero"
   ]
  },
  {
   "cell_type": "code",
   "execution_count": 40,
   "metadata": {},
   "outputs": [
    {
     "name": "stdout",
     "output_type": "stream",
     "text": [
      "Point(x=3418, y=259)\n"
     ]
    }
   ],
   "source": [
    "#pyautogui.click(2470, 38)\n",
    "print(pyautogui.position())"
   ]
  }
 ],
 "metadata": {
  "kernelspec": {
   "display_name": "Python 3",
   "language": "python",
   "name": "python3"
  },
  "language_info": {
   "codemirror_mode": {
    "name": "ipython",
    "version": 3
   },
   "file_extension": ".py",
   "mimetype": "text/x-python",
   "name": "python",
   "nbconvert_exporter": "python",
   "pygments_lexer": "ipython3",
   "version": "3.7.0"
  }
 },
 "nbformat": 4,
 "nbformat_minor": 4
}
